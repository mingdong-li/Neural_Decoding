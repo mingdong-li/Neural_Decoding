{
 "cells": [
  {
   "cell_type": "markdown",
   "metadata": {},
   "source": [
    "# Example of Point Process Decoder\n",
    "\n",
    "For use in point process decoding (sometimes I also use point process filter), we need the following format of inputs:\n",
    "- Neural data should be a matrix of size \"number of time bins\" x \"number of neurons\", where each entry is the firing rate of a given neuron in a given time bin\n",
    "- It should be noted that point process decoding is for **binary-valued spike trains**. Hence, the time bins should be very small to gurantee that most intervals have no more than one spike.\n",
    "- The output you are decoding should be a matrix of size \"number of time bins\" x \"number of features you are decoding\"\n",
    "\n",
    "In this example, we load Matlab data that contains \n",
    "- The spike times of all neurons. In Matlab, \"spike_times\" is a cell of size \"number of neurons\" x 1. Within spike_times{i} is a vector containing all the spike times of neuron i.\n",
    "- A continuous stream of the output variables. In this example, we are aiming to decode velocity. In Matlab, \"vels\" is a matrix of size \"number of recorded time points\" x 2 (x and y velocities were recorded) that contains the x and y velocity components at all time points. \"vel_times\" is a vector that states the time at all recorded time points. \n",
    "\n",
    "We will put this data in the format described above, with the help of the functions \"bin_spikes\" and \"bin_output\" that are in the file \"preprocessing_funcs.py\"\n",
    "\n",
    "This example is similar to those shown in \"Examples_kf_decoder.\" However, there is some preprocessing is different for **Point Process**, so we have made a separate notebook. It should be noted that a **small time bin** should be used to obtain point process observation.\n",
    "\n",
    "In this example notebook, we:\n",
    "1. Import the necessary packages\n",
    "2. Load a data file (spike trains and outputs we are predicting)\n",
    "3. Preprocess the data\n",
    "4. Check the intervals and visualize point process observation\n",
    "5. Run the point process decoders\n",
    "6. Plot example decoded outputs\n",
    "7. Evaluating the goodness of fit\n",
    "\n",
    "- State-space model with Gaussian approximation (Kalman FILTER with Point Process) [Link][1]\n",
    "- State-space model with sequential Monte Carlo (Particle FILTER with Point Process) [Link][2]\n",
    "\n",
    "[1]: https://direct.mit.edu/neco/article/16/5/971/6831/Dynamic-Analysis-of-Neural-Encoding-by-Point\n",
    "[2]: https://direct.mit.edu/neco/article/21/10/2894/7426/Sequential-Monte-Carlo-Point-Process-Estimation-of]"
   ]
  },
  {
   "cell_type": "markdown",
   "metadata": {},
   "source": [
    "## Import packages and functions"
   ]
  },
  {
   "cell_type": "code",
   "execution_count": 2,
   "metadata": {
    "collapsed": false
   },
   "outputs": [],
   "source": [
    "###Import standard packages###\n",
    "import numpy as np\n",
    "from scipy import io\n",
    "import matplotlib.pyplot as plt\n",
    "\n",
    "\n",
    "###Import functions for binning data for preprocessing###\n",
    "from Neural_Decoding.preprocessing_funcs import bin_spikes\n",
    "from Neural_Decoding.preprocessing_funcs import bin_output\n",
    "%matplotlib inline"
   ]
  },
  {
   "cell_type": "markdown",
   "metadata": {},
   "source": [
    "## Load Data\n",
    "The data for this example can be downloaded at this [link](https://www.dropbox.com/sh/n4924ipcfjqc0t6/AACPWjxDKPEzQiXKUUFriFkJa?dl=0&preview=s1_data_raw.mat)\n",
    "\n",
    "It was recorded by Raeed Chowdhury from Lee Miller's lab at Northwestern."
   ]
  },
  {
   "cell_type": "code",
   "execution_count": 3,
   "metadata": {
    "collapsed": false
   },
   "outputs": [],
   "source": [
    "###Load Data###\n",
    "folder='data/' #ENTER THE FOLDER THAT YOUR DATA IS IN\n",
    "# folder='/Users/jig289/Dropbox/MATLAB/Projects/In_Progress/BMI/Processed_Data/' \n",
    "data=io.loadmat(folder+'s1_data_raw.mat')\n",
    "spike_times=data['spike_times'] #Load spike times of all neurons\n",
    "vels=data['vels'] #Load x and y velocities\n",
    "vel_times=data['vel_times'] #Load times at which velocities were recorded"
   ]
  },
  {
   "cell_type": "markdown",
   "metadata": {},
   "source": [
    "## User Inputs"
   ]
  },
  {
   "cell_type": "code",
   "execution_count": 4,
   "metadata": {
    "collapsed": false
   },
   "outputs": [],
   "source": [
    "dt=.01 #Size of time bins (in seconds)\n",
    "t_start=vel_times[0] #Time to start extracting data - here the first time velocity was recorded\n",
    "t_end=vel_times[-1] #Time to finish extracting data - here the last time velocity was recorded\n",
    "downsample_factor=1 #Downsampling of output (to make binning go faster). 1 means no downsampling."
   ]
  },
  {
   "cell_type": "code",
   "execution_count": 5,
   "metadata": {},
   "outputs": [
    {
     "name": "stdout",
     "output_type": "stream",
     "text": [
      "t start 1.17s and t end 3068.16s\n",
      "selected: t start 1.17s and t end 500.00s\n"
     ]
    }
   ],
   "source": [
    "print(\"t start %.2fs and t end %.2fs\"%(t_start,t_end))\n",
    "t_end = 500\n",
    "print(\"selected: t start %.2fs and t end %.2fs\"%(t_start,t_end))\n"
   ]
  },
  {
   "cell_type": "markdown",
   "metadata": {},
   "source": [
    "## Put data in binned format"
   ]
  },
  {
   "cell_type": "code",
   "execution_count": 6,
   "metadata": {
    "collapsed": true
   },
   "outputs": [],
   "source": [
    "#When loading the Matlab cell \"spike_times\", Python puts it in a format with an extra unnecessary dimension\n",
    "#First, we will put spike_times in a cleaner format: an array of arrays\n",
    "spike_times=np.squeeze(spike_times)\n",
    "for i in range(spike_times.shape[0]):\n",
    "    spike_times[i]=np.squeeze(spike_times[i])"
   ]
  },
  {
   "cell_type": "code",
   "execution_count": 7,
   "metadata": {
    "collapsed": false
   },
   "outputs": [],
   "source": [
    "###Preprocessing to put spikes and output in bins###\n",
    "\n",
    "#Bin neural data using \"bin_spikes\" function\n",
    "neural_data=bin_spikes(spike_times,dt,t_start,t_end)\n",
    "\n",
    "#Bin output (velocity) data using \"bin_output\" function\n",
    "vels_binned=bin_output(vels,vel_times,dt,t_start,t_end,downsample_factor)"
   ]
  },
  {
   "cell_type": "markdown",
   "metadata": {},
   "source": [
    "## Check the number of spikes in each intervals"
   ]
  },
  {
   "cell_type": "code",
   "execution_count": 8,
   "metadata": {},
   "outputs": [
    {
     "name": "stdout",
     "output_type": "stream",
     "text": [
      "Neural data shape:(49882,52)\n",
      "99.3% intervals have no more than one spike\n"
     ]
    }
   ],
   "source": [
    "print(\"Neural data shape:(%d,%d)\"%(neural_data.shape[0],neural_data.shape[1]))\n",
    "no_spike = np.sum(neural_data==0)\n",
    "one_spike = np.sum(neural_data==1)\n",
    "more_than_one_spike = np.sum(neural_data>1)\n",
    "num_intervals = neural_data.shape[0]*neural_data.shape[1]\n",
    "\n",
    "# check the ratio\n",
    "print(\"{:.1%} intervals have no more than one spike\".format(1-more_than_one_spike/num_intervals))"
   ]
  },
  {
   "cell_type": "markdown",
   "metadata": {},
   "source": [
    "## Eventplot for spikes"
   ]
  },
  {
   "cell_type": "code",
   "execution_count": 12,
   "metadata": {},
   "outputs": [
    {
     "name": "stdout",
     "output_type": "stream",
     "text": [
      "Number of Spike of each neuron in 1000 points:  [ 10.   8.  14.  73.  15. 115.  64.  96.  72.  90.]\n"
     ]
    },
    {
     "data": {
      "image/png": "[encoded data removed]",
      "text/plain": [
       "<Figure size 640x480 with 2 Axes>"
      ]
     },
     "metadata": {},
     "output_type": "display_data"
    }
   ],
   "source": [
    "t_window = np.arange(100,500,1)\n",
    "demo_data = neural_data[t_window,0:10]\n",
    "num_neu = demo_data.shape[1]\n",
    "colors1 = [f'C{i}' for i in range(num_neu)]\n",
    "colors2 = 'black'\n",
    "\n",
    "lineoffsets1 = list(range(num_neu))\n",
    "linelengths1 = np.ones((num_neu),dtype=int)*0.5\n",
    "lineoffsets2 = list(range(num_neu))\n",
    "linelengths2 = 1\n",
    "\n",
    "tt = np.arange(0,1000,1)\n",
    "print(\"Number of Spike of each neuron in 1000 points: \", np.sum(demo_data.T,axis=1))\n",
    "\n",
    "fig, axs = plt.subplots(2, 1)\n",
    "for i in range(num_neu):\n",
    "    event_data = t_window[0] + np.where(demo_data[:,i]>0)\n",
    "    # the first parameter of eventplot is position\n",
    "    # position: the occur time\n",
    "    # but how is there any better way to process different length position array?\n",
    "    axs[0].eventplot(event_data, color=colors1[i], lineoffsets=lineoffsets1[i], linelengths=linelengths1[i])\n",
    "    axs[1].eventplot(event_data, color=colors2, lineoffsets=lineoffsets2[i], linelengths=linelengths2)\n",
    "\n",
    "axs[0].set_xlim(t_window[0],t_window[-1])\n",
    "axs[0].set_ylabel(\"# Neuron\")\n",
    "axs[1].set_xlabel(\"Time (10ms)\")\n",
    "fig.tight_layout()\n"
   ]
  },
  {
   "cell_type": "markdown",
   "metadata": {},
   "source": [
    "## Decoding"
   ]
  },
  {
   "cell_type": "code",
   "execution_count": null,
   "metadata": {},
   "outputs": [],
   "source": []
  },
  {
   "cell_type": "markdown",
   "metadata": {},
   "source": [
    "## Save Data"
   ]
  },
  {
   "cell_type": "code",
   "execution_count": 6,
   "metadata": {
    "collapsed": false
   },
   "outputs": [],
   "source": [
    "# import pickle\n",
    "\n",
    "# data_folder='' #FOLDER YOU WANT TO SAVE THE DATA TO\n",
    "\n",
    "# with open(data_folder+'example_data_s1.pickle','wb') as f:\n",
    "#     pickle.dump([neural_data,vels_binned],f)"
   ]
  }
 ],
 "metadata": {
  "anaconda-cloud": {},
  "kernelspec": {
   "display_name": "base",
   "language": "python",
   "name": "python3"
  },
  "language_info": {
   "codemirror_mode": {
    "name": "ipython",
    "version": 3
   },
   "file_extension": ".py",
   "mimetype": "text/x-python",
   "name": "python",
   "nbconvert_exporter": "python",
   "pygments_lexer": "ipython3",
   "version": "3.10.9"
  }
 },
 "nbformat": 4,
 "nbformat_minor": 0
}
